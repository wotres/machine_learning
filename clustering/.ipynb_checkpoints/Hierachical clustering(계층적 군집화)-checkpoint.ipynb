{
 "cells": [
  {
   "cell_type": "markdown",
   "metadata": {},
   "source": [
    "# Hierachical clustering(계층적 군집화)\n",
    "가장 유사도가 높은 또는 가까운 거리의 군집을 두개씩 선택하여 하나로 합치면서 최종적으로 하나의 군집으로 묶어주는 방법\n",
    "\n",
    "모든 군집간의 거리를 측정\n",
    "\n",
    "### 측정방법\n",
    "\n",
    "### 계층적 거리 측정법\n",
    "이미 이전 단계에서 계층적방법으로 군집이 합쳐진 적이 있다고 가정\n",
    "비계층적 거리 측정에 비해 당연히 계산량이 적음\n",
    "\n",
    "### 중앙값 거리(median)\n",
    "두 군집의 중심점의 평균을 사용\n",
    "\n",
    "(평균거리와는 조금다름 -> 평균거리는 각 점들 다계산, 하지만 이방법은 원래군집의 그냥 중심점을 이용)\n",
    "\n",
    "### 가중 거리(weighted)\n",
    "군집3이 군집1과 군집2가 합쳐져 만들어져 있고 군집3과 군집4의 거리를 구할 때 \n",
    "\n",
    "군집3이 아닌 군집1과 군집4, 군집2와 군집4 이런식으로 구한 두 거리의 평균을 사용\n",
    "\n",
    "### 와드 거리(ward)\n",
    "\n",
    "중앙갑소가 와드 거리 계산해봐야함!!!!!!!!!!!!!!!!!!!!!!!!!!!!!!!!!!!!!!!!!!!!!!!!!!!!!!!!!!!!!!!!!!!!!!!!!\n",
    "\n",
    "\n",
    "### 비계층적 거리 측정법\n",
    "\n",
    "### 단일 거리(single)\n",
    "군집1과 군집2의 모든 점을 비교해 가장 작은 거리값을 구함 \n",
    "\n",
    "### 완전 거리(complete)\n",
    "군집1과 군집2의 모든 점을 비교해 가장 큰 거리값을 구함\n",
    "\n",
    "### 평균 거리(average)\n",
    "군집1과 군집2의 모든점을 비교해 평균 거리를 구함\n",
    "\n",
    "### 중심 거리(centroid)\n",
    "군집1의 중심점을 구하고 군집2의 중심점을 구한뒤 두 중심점 차이를 구함\n"
   ]
  },
  {
   "cell_type": "code",
   "execution_count": 33,
   "metadata": {},
   "outputs": [
    {
     "name": "stdout",
     "output_type": "stream",
     "text": [
      "[[0.   1.   1.   2.  ]\n",
      " [2.   3.   1.   2.  ]\n",
      " [4.   6.   2.5  3.  ]\n",
      " [5.   7.   5.25 5.  ]]\n"
     ]
    },
    {
     "data": {
      "image/png": "[encoded data removed]",
      "text/plain": [
       "<Figure size 720x720 with 1 Axes>"
      ]
     },
     "metadata": {
      "needs_background": "light"
     },
     "output_type": "display_data"
    }
   ],
   "source": [
    "from scipy.cluster.hierarchy import linkage, dendrogram\n",
    "from matplotlib import pyplot as plt\n",
    "import pandas as pd\n",
    "\n",
    "X = pd.DataFrame([[1],[2],[5],[6],[8]])\n",
    "\n",
    "# method = single, complete, average, weighted, centroid\n",
    "# [cluster id1, clusterid2, distance, cluster memeber count] 순서로 Z 도출\n",
    "# 특이 사항이 5개의 위치가 있으면 일단 군집으로 묶이는 것들을 6, 7 이런식으로 하나씩 새롭게 군집화 번호를 매김\n",
    "Z = linkage(X, method='median')\n",
    "print(Z)\n",
    "fig = plt.figure(figsize=(10, 10))\n",
    "dn = dendrogram(Z)\n",
    "\n",
    "plt.show()\n"
   ]
  },
  {
   "cell_type": "code",
   "execution_count": null,
   "metadata": {},
   "outputs": [],
   "source": []
  }
 ],
 "metadata": {
  "kernelspec": {
   "display_name": "Python 3",
   "language": "python",
   "name": "python3"
  },
  "language_info": {
   "codemirror_mode": {
    "name": "ipython",
    "version": 3
   },
   "file_extension": ".py",
   "mimetype": "text/x-python",
   "name": "python",
   "nbconvert_exporter": "python",
   "pygments_lexer": "ipython3",
   "version": "3.7.4"
  }
 },
 "nbformat": 4,
 "nbformat_minor": 2
}
