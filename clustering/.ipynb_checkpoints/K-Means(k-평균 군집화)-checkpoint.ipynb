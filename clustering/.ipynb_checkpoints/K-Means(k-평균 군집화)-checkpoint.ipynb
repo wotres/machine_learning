{
 "cells": [
  {
   "cell_type": "markdown",
   "metadata": {},
   "source": [
    "# K-Means(k-평균 군집화)\n",
    "데이터들의 그룹을 묶을 수 잇는 사전 정보가 없이 거리에 따른 구분 수행\n",
    "\n",
    "### 군집화 순서\n",
    "1. k개의 클러스터 중심을 랜덤으로 위치 \n",
    "2. 거리 기반으로 데이터를 분류(k 개의 위치와 가까운 곳으로 분류)\n",
    "3. 분류된 데이터들의 중심으로 클러스터의 중심을 위치\n",
    "4. 2~3 을 다시 반복\n",
    "5. 클러스터의 중심의 위치가 더이상 이동되지않거나 특정 반복횟수가 될때까지 학습 후 종료\n",
    "\n",
    "### 특징\n",
    "1. 간단하게 적용가능(짧은 계산시간)\n",
    "2. 결과 해석 어려움\n",
    "3. 초기 k 값이 적합하지않으면 좋은 결과 어려움 \n",
    "\n",
    "### 초기 클러스터 수 계산\n",
    "1. 데이터 수가 n 이라 할때 sqrt(n/2) 정도로 계산\n",
    "\n",
    "2. Elbow Method 방식으로 클러스터 수를 순차적으로 늘려가면서 하나의 클러스터를 추가했을때\n",
    "\n",
    "    이전보다 훨씬 더 나은 결과를 나타내지 않는다면 이전의 클러스터 수를 구하는 방식을 사용\n"
   ]
  },
  {
   "cell_type": "code",
   "execution_count": 80,
   "metadata": {},
   "outputs": [
    {
     "data": {
      "text/plain": [
       "array([[9.05538514, 0.33333333],\n",
       "       [9.05538514, 1.66666667],\n",
       "       [9.21954446, 1.33333333],\n",
       "       [1.        , 9.00617072],\n",
       "       [1.        , 9.15302015],\n",
       "       [0.        , 9.02465758]])"
      ]
     },
     "execution_count": 80,
     "metadata": {},
     "output_type": "execute_result"
    }
   ],
   "source": [
    "import pandas as pd\n",
    "from sklearn.cluster import KMeans\n",
    "\n",
    "df = pd.DataFrame([[1, 2], [1, 4], [1, 1], [10, 2], [10, 4], [10, 3]], columns=['x', 'y'])\n",
    "\n",
    "# parameter : n_clusters(군집개수), n_init(n 번의 초기점을 할당하여 수행), \n",
    "# max_iter(한번에 몇번 반복할것인지 수행), random_state(초기 시드값)\n",
    "kmeans = KMeans(n_clusters=2, random_state=0).fit(df)\n",
    "# 구분된 군집\n",
    "pred = kmeans.predict(df)\n",
    "kmeans.labels_\n",
    "pd.concat([df, pd.DataFrame(kmeans.labels_, columns=['cls'])], axis=1)\n",
    "\n",
    "# 중심점\n",
    "kmeans.cluster_centers_\n",
    "\n",
    "# 각 클러스터와의 거리 계산 -> 가장 가까운게 할당\n",
    "kmeans.fit_transform(df)\n"
   ]
  },
  {
   "cell_type": "code",
   "execution_count": 81,
   "metadata": {},
   "outputs": [
    {
     "data": {
      "image/png": "[encoded data removed]",
      "text/plain": [
       "<Figure size 432x288 with 1 Axes>"
      ]
     },
     "metadata": {
      "needs_background": "light"
     },
     "output_type": "display_data"
    },
    {
     "data": {
      "image/png": "[encoded data removed]",
      "text/plain": [
       "<Figure size 432x288 with 1 Axes>"
      ]
     },
     "metadata": {
      "needs_background": "light"
     },
     "output_type": "display_data"
    },
    {
     "data": {
      "image/png": "[encoded data removed]",
      "text/plain": [
       "<Figure size 432x288 with 1 Axes>"
      ]
     },
     "metadata": {
      "needs_background": "light"
     },
     "output_type": "display_data"
    },
    {
     "name": "stdout",
     "output_type": "stream",
     "text": [
      "K= 2정도가 적당하다!\n"
     ]
    }
   ],
   "source": [
    "# elbow point 구하는법\n",
    "from sklearn.cluster import KMeans\n",
    "from scipy.spatial.distance import cdist\n",
    "import numpy as np\n",
    "import matplotlib.pyplot as plt\n",
    "\n",
    "# 데이터셋 생성\n",
    "df = pd.DataFrame([[1, 2], [1, 4], [1, 1], [10, 2], [10, 4], [10, 3]], columns=['x', 'y'])\n",
    "plt.plot()\n",
    "plt.xlim([0, 11])\n",
    "plt.ylim([0, 11])\n",
    "plt.title('Dataset Check')\n",
    "plt.scatter(df['x'], df['y'])\n",
    "plt.show()\n",
    "\n",
    "# k 에 따른 거리차이 계산\n",
    "# Cost 판단 코드 구현방법에는 2가지 방법이 있음  \n",
    "# 1. 각 모델별 중심점과 데이터셋과의 거리를 구하는 방법\n",
    "distortions = []\n",
    "# 2. kmeans 내부의 함수 inertias 를 이용하여 군집 중심점과 거리 제곱의 합으로 판단하는 방법\n",
    "inertias = []\n",
    "\n",
    "K = range(1,5)\n",
    "for k in K:\n",
    "    kmeans = KMeans(n_clusters=k)\n",
    "    kmeans.fit(df)\n",
    "    # cdist 로 각센터와의 거리계산\n",
    "    # 가장 작은 값 == 군집과의 거리를 채택\n",
    "    # 이 값의 합들을 구함 -> 이 값의 합들이 가장 최소화 될수록 군집화가 잘되었음을 유추 가능\n",
    "    distortions.append(sum(np.min(cdist(df, kmeans.cluster_centers_, 'euclidean'), axis=1)) / len(df))\n",
    "    inertias.append(kmeans.inertia_ / len(df))\n",
    "    \n",
    "plt.plot(K, distortions, 'bx-')\n",
    "plt.xlabel('k')\n",
    "plt.ylabel('Distortion')\n",
    "plt.title('choose the optimal k by the Elbow Point Method')\n",
    "plt.show()\n",
    "\n",
    "plt.plot(K, inertias, 'rx-')\n",
    "plt.xlabel('k')\n",
    "plt.ylabel('Inertias')\n",
    "plt.show()\n",
    "\n",
    "print(\"K= 2정도가 적당하다!\")\n"
   ]
  }
 ],
 "metadata": {
  "kernelspec": {
   "display_name": "Python 3",
   "language": "python",
   "name": "python3"
  },
  "language_info": {
   "codemirror_mode": {
    "name": "ipython",
    "version": 3
   },
   "file_extension": ".py",
   "mimetype": "text/x-python",
   "name": "python",
   "nbconvert_exporter": "python",
   "pygments_lexer": "ipython3",
   "version": "3.7.4"
  }
 },
 "nbformat": 4,
 "nbformat_minor": 2
}
