{
 "cells": [
  {
   "attachments": {},
   "cell_type": "markdown",
   "metadata": {},
   "source": [
    "# Correlation(상관계수)\n",
    "x라는 값과 y 라는 값이 있을때 어떤 상관관계가 있는지를 나타내는  값\n",
    "\n",
    "흔히 상점도 형태로 먼저 데이터를 살피고 상관계수를 통해 정확한 값들의 연관 관계를 살핌\n",
    "\n",
    "### 값에 따른 판단\n",
    "\n",
    "값이 1이면 강한 양의 상관관계 -> 산점도에서 우상향\n",
    "\n",
    "0이면 선형적인 상관관계는 없음(2차원 방정식 같은경우 상관관계는 있지만 값은 거의 0) -> 산점도에서 막퍼져있음\n",
    "\n",
    "값이 -1이면 강한 음의 상관관계 -> 산점도에서 우하향\n",
    "\n",
    "0.5정도면 x가 증가하면 y가 증가한다라고 말함\n",
    "\n",
    "상관관계이지 인과관계는 아님\n",
    "\n",
    "### Pearson correlation coefficient (피어슨 상관계수)\n",
    "두변수의 공분산을 표준편차의 곱으로 나눈것\n",
    "상관계수는 ρ (로우)\n",
    "\n",
    "<img src=\"pearson.svg\">\n",
    "\n",
    "x 와 y 가 함께 변하는 정도 / x와 y 가 각각변하는 정도\n",
    "\n",
    "### Spearman correlation coefficient(스피어만 상관계수)\n",
    "두 변수의 순위 사이의 통계적 의존성을 측정하는 비모수적인 척도\n",
    "\n",
    "즉, 순위가 매겨진 변수 간의 피어슨 상관계수"
   ]
  },
  {
   "cell_type": "code",
   "execution_count": null,
   "metadata": {},
   "outputs": [],
   "source": [
    "# pandas correlation 구하기\n",
    "import pandas as pd\n",
    "\n",
    "df = pd.DataFrame(data=[[1,2,3.3], [1,3,5], [2,2,4]]).T\n",
    "df.columns=['a','b','c']\n",
    "# 피어슨\n",
    "df.corr(method='pearson')\n",
    "# 스피어만\n",
    "df.corr(method='spearman')\n",
    "# 공분산\n",
    "df.cov()"
   ]
  }
 ],
 "metadata": {
  "kernelspec": {
   "display_name": "Python 3",
   "language": "python",
   "name": "python3"
  },
  "language_info": {
   "codemirror_mode": {
    "name": "ipython",
    "version": 3
   },
   "file_extension": ".py",
   "mimetype": "text/x-python",
   "name": "python",
   "nbconvert_exporter": "python",
   "pygments_lexer": "ipython3",
   "version": "3.7.4"
  }
 },
 "nbformat": 4,
 "nbformat_minor": 2
}
