{
 "cells": [
  {
   "cell_type": "code",
   "execution_count": 9,
   "metadata": {},
   "outputs": [
    {
     "data": {
      "text/plain": [
       "0    3.5\n",
       "1    4.5\n",
       "2    5.5\n",
       "3    6.5\n",
       "4    7.5\n",
       "dtype: float64"
      ]
     },
     "execution_count": 9,
     "metadata": {},
     "output_type": "execute_result"
    }
   ],
   "source": [
    "# pandas dataframe 기술통계\n",
    "import pandas as pd\n",
    "df=pd.DataFrame(data=[[1,2,3,4,5],[6,7,8,9,10]])\n",
    "# 파라미터로 () 안에 axis=1 넣으면 행계산\n",
    "# 합 \n",
    "df.sum()\n",
    "# 평균\n",
    "df.mean()\n",
    "# 편차\n",
    "df.std(axis=1)\n",
    "# 분산\n",
    "df.var(axis=1)\n",
    "# 최대\n",
    "df.max()\n",
    "# 최소\n",
    "df.min()\n",
    "# 중앙값\n",
    "df.median()\n"
   ]
  },
  {
   "cell_type": "code",
   "execution_count": null,
   "metadata": {},
   "outputs": [],
   "source": []
  }
 ],
 "metadata": {
  "kernelspec": {
   "display_name": "Python 3",
   "language": "python",
   "name": "python3"
  },
  "language_info": {
   "codemirror_mode": {
    "name": "ipython",
    "version": 3
   },
   "file_extension": ".py",
   "mimetype": "text/x-python",
   "name": "python",
   "nbconvert_exporter": "python",
   "pygments_lexer": "ipython3",
   "version": "3.7.4"
  }
 },
 "nbformat": 4,
 "nbformat_minor": 2
}
